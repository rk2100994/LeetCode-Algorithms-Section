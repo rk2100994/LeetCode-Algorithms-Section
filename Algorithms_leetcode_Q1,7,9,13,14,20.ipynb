{
 "cells": [
  {
   "cell_type": "markdown",
   "metadata": {},
   "source": [
    "# Two-Sum\n",
    "Given an array of integers, return indices of the two numbers such that they add up to a specific target.\n",
    "\n",
    "You may assume that each input would have exactly one solution, and you may not use the same element twice.\n",
    "\n",
    "Example:\n",
    "\n",
    "Given nums = [2, 7, 11, 15], target = 9,\n",
    "\n",
    "Because nums[0] + nums[1] = 2 + 7 = 9,\n",
    "return [0, 1]."
   ]
  },
  {
   "cell_type": "code",
   "execution_count": 1,
   "metadata": {},
   "outputs": [
    {
     "name": "stdout",
     "output_type": "stream",
     "text": [
      "Nums:  [2, 7, 11, 15]\n",
      "Target:  9\n",
      "Solution:  (0, 1)\n"
     ]
    }
   ],
   "source": [
    "#timeComplexity O(n^2)\n",
    "def twoSum(nums, target):\n",
    "        for i in range(len(nums)):\n",
    "            for j in range(i+1,len(nums)):\n",
    "                if(nums[i]+nums[j]==target):\n",
    "                    return (i,j)\n",
    "nums = [2, 7, 11, 15]\n",
    "target = 9\n",
    "# print(index_map)\n",
    "print(\"Nums: \", nums)\n",
    "print(\"Target: \", target)\n",
    "print(\"Solution: \", twoSum(nums, target))"
   ]
  },
  {
   "cell_type": "code",
   "execution_count": 15,
   "metadata": {},
   "outputs": [
    {
     "name": "stdout",
     "output_type": "stream",
     "text": [
      "Nums:  [11, 15, 2, 7]\n",
      "Target:  9\n",
      "Solution:  [2, 3]\n"
     ]
    }
   ],
   "source": [
    "#BruteFore: time complexity O(n)\n",
    "def twoSum(nums, target):\n",
    "    indexes = {}\n",
    "    for index,val in enumerate(nums):\n",
    "#         print(\"i\",index)\n",
    "        rem = target - val\n",
    "#         print(\"rem\",rem)\n",
    "        if rem in indexes:\n",
    "#             print(\"other\",indexes[rem])\n",
    "#             print(\"eds\",index)\n",
    "            return [indexes[rem], index]\n",
    "        indexes[val] = index \n",
    "#         print(\"dict\",indexes)\n",
    "    return None\n",
    "# nums = [2, 3, 6, 7, 9, 11, 15]\n",
    "nums = [11,15,2,7]\n",
    "target = 9\n",
    "# print(index_map)\n",
    "print(\"Nums: \", nums)\n",
    "print(\"Target: \", target)\n",
    "print(\"Solution: \", twoSum(nums, target))"
   ]
  },
  {
   "cell_type": "markdown",
   "metadata": {},
   "source": [
    "# Reverse digits of an integer\n",
    "Given a 32-bit signed integer.\n",
    "\n",
    "Example 1:\n",
    "\n",
    "Input: 123\n",
    "Output: 321\n",
    "Example 2:\n",
    "\n",
    "Input: -123\n",
    "Output: -321\n",
    "Example 3:\n",
    "\n",
    "Input: 120\n",
    "Output: 21\n"
   ]
  },
  {
   "cell_type": "code",
   "execution_count": 3,
   "metadata": {},
   "outputs": [
    {
     "name": "stdout",
     "output_type": "stream",
     "text": [
      "Reverse of the number: 321\n"
     ]
    }
   ],
   "source": [
    "# works only for positive numbers\n",
    "n=123\n",
    "rev=0\n",
    "while(n>0):\n",
    "    rem=n%10\n",
    "#     print(\"dig\",dig)\n",
    "    rev=rev*10+rem\n",
    "#     print(\"rev\",rev)\n",
    "    n=n//10\n",
    "#     print(\"n\",n)\n",
    "print(\"Reverse of the number:\",rev)"
   ]
  },
  {
   "cell_type": "code",
   "execution_count": 4,
   "metadata": {},
   "outputs": [
    {
     "name": "stdout",
     "output_type": "stream",
     "text": [
      "Reverse  321\n",
      "Reverse  21\n",
      "Reverse  -321\n",
      "Reverse 9646324351\n"
     ]
    }
   ],
   "source": [
    "def reverse(x):\n",
    "    if(x>=0):\n",
    "        return(rev(x))  \n",
    "    else:\n",
    "        str_x = str(x)\n",
    "        unsigned = str_x[1:]\n",
    "#         print(unsigned)\n",
    "        reversed = rev(int(unsigned))\n",
    "        signed = \"-\" + str(reversed)\n",
    "        return(signed)\n",
    "    \n",
    "def rev(n):\n",
    "    rev=0\n",
    "    while(n>0):\n",
    "        rem = n%10\n",
    "        rev=rev*10+rem\n",
    "        n=n//10  \n",
    "    return(rev)\n",
    "\n",
    "print(\"Reverse \",reverse(123))\n",
    "print(\"Reverse \",reverse(120))\n",
    "print(\"Reverse \",reverse(-123))\n",
    "print(\"Reverse\",reverse(1534236469))"
   ]
  },
  {
   "cell_type": "code",
   "execution_count": 5,
   "metadata": {},
   "outputs": [
    {
     "name": "stdout",
     "output_type": "stream",
     "text": [
      "Reverse  321\n",
      "Reverse  21\n",
      "Reverse  -321\n"
     ]
    }
   ],
   "source": [
    "#specifically for 32-bit signed integer condition\n",
    "def reverse(x):\n",
    "    if x >= 2**31-1 or x <= -2**31: return 0\n",
    "    else:\n",
    "        strg = str(x)\n",
    "        if x >= 0 :\n",
    "            revst = strg[::-1]\n",
    "        else:\n",
    "            temp = strg[1:] \n",
    "            temp2 = temp[::-1] \n",
    "            revst = \"-\" + temp2\n",
    "        if int(revst) >= 2**31-1 or int(revst) <= -2**31: return 0\n",
    "        else: return int(revst)\n",
    "\n",
    "print(\"Reverse \",reverse(123))\n",
    "print(\"Reverse \",reverse(120))\n",
    "print(\"Reverse \",reverse(-123))"
   ]
  },
  {
   "cell_type": "markdown",
   "metadata": {},
   "source": [
    "# Palindrome\n",
    "\n",
    "Determine whether an integer is a palindrome. An integer is a palindrome when it reads the same backward as forward.\n",
    "\n",
    "Example1:\n",
    "Input: 121\n",
    "Output: true\n",
    "\n",
    "Example2:\n",
    "Input: -121\n",
    "Output: false\n",
    "Explanation: From left to right, it reads -121. From right to left, it becomes 121-. Therefore it is not a palindrome.\n"
   ]
  },
  {
   "cell_type": "code",
   "execution_count": 6,
   "metadata": {},
   "outputs": [
    {
     "name": "stdout",
     "output_type": "stream",
     "text": [
      "None\n"
     ]
    }
   ],
   "source": [
    " def isPalindrome(x):\n",
    "        if(x>0):\n",
    "            reversed = reverse(x)\n",
    "            if(x == reversed):\n",
    "#                 return True (add this in leetcode editor,remove below line)\n",
    "                return \"true\"\n",
    "            else:\n",
    "#                 return False (add this in leetcode editor,remove below line)\n",
    "                return \"false\"\n",
    "        \n",
    "        \n",
    "def reverse(n):\n",
    "    rev =0\n",
    "    while(n>0):\n",
    "        rem = n%10\n",
    "        rev = rev*10+rem\n",
    "        n=n//10\n",
    "    return rev\n",
    "print(isPalindrome(-121))"
   ]
  },
  {
   "cell_type": "code",
   "execution_count": 7,
   "metadata": {},
   "outputs": [
    {
     "name": "stdout",
     "output_type": "stream",
     "text": [
      "False\n"
     ]
    }
   ],
   "source": [
    " def isPalindrome(x):\n",
    "    x=str(x)\n",
    "    if x[::-1]==x:\n",
    "        return True\n",
    "    else:\n",
    "        return False\n",
    "print(isPalindrome(-121))"
   ]
  },
  {
   "cell_type": "markdown",
   "metadata": {},
   "source": [
    "# Roman to Integer\n",
    "\n",
    "I             1 <br>\n",
    "V             5 <br>\n",
    "X             10 <br>\n",
    "L             50 <br>\n",
    "C             100 <br>\n",
    "D             500 <br>\n",
    "M             1000 <br>"
   ]
  },
  {
   "cell_type": "code",
   "execution_count": 8,
   "metadata": {},
   "outputs": [
    {
     "name": "stdout",
     "output_type": "stream",
     "text": [
      "500\n"
     ]
    }
   ],
   "source": [
    "def romanToInt(s):\n",
    "    rom_val = {'I': 1, 'V': 5, 'X': 10, 'L': 50, 'C': 100, 'D': 500, 'M': 1000}\n",
    "    sum = 0\n",
    "    for i in range(len(s)):\n",
    "        if i > 0 and rom_val[s[i]] > rom_val[s[i - 1]]:\n",
    "#             print(rom_val[s[i]])\n",
    "            sum += rom_val[s[i]] - 2 * rom_val[s[i - 1]]\n",
    "#             print(\"sum\",sum)\n",
    "        else:\n",
    "            sum += rom_val[s[i]]\n",
    "#             print(\"else sum\",sum)\n",
    "    return sum\n",
    "\n",
    "# print(romanToInt('MMMCMLXXXVI'))\n",
    "# print(romanToInt('MMMM'))\n",
    "# print(romanToInt('C'))\n",
    "print(romanToInt('CCD'))"
   ]
  },
  {
   "cell_type": "markdown",
   "metadata": {},
   "source": [
    "# Longest Common Prefix\n",
    "Find the longest common prefix string amongst an array of strings.\n",
    "\n",
    "If there is no common prefix, return an empty string \"\".\n",
    "\n",
    "Example 1:\n",
    "\n",
    "Input: [\"flower\",\"flow\",\"flight\"]\n",
    "Output: \"fl\"\n",
    "Example 2:\n",
    "\n",
    "Input: [\"dog\",\"racecar\",\"car\"]\n",
    "Output: \"\"\n",
    "Explanation: There is no common prefix among the input strings."
   ]
  },
  {
   "cell_type": "code",
   "execution_count": 9,
   "metadata": {},
   "outputs": [
    {
     "name": "stdout",
     "output_type": "stream",
     "text": [
      "a\n"
     ]
    }
   ],
   "source": [
    "\n",
    "def longestCommonPrefix(strs):\n",
    "        result=''\n",
    "        if strs == [] :\n",
    "            return result\n",
    "        \n",
    "        for str_len in range(1,len(strs[0])+1):\n",
    "            compare = strs[0][:str_len]\n",
    "            for strings in strs:\n",
    "                if not compare == strings[:str_len]:\n",
    "                    return result\n",
    "            result = compare\n",
    "            \n",
    "        return result\n",
    "print(longestCommonPrefix([\"aca\",\"acba\",\"a\"]))"
   ]
  },
  {
   "cell_type": "markdown",
   "metadata": {},
   "source": [
    "# Valid Parentheses\n",
    "Given a string containing just the characters '(', ')', '{', '}', '[' and ']', determine if the input string is valid. <br>\n",
    "\n",
    "An input string is valid if: <br>\n",
    "Open brackets must be closed by the same type of brackets. <br>\n",
    "Open brackets must be closed in the correct order. <br>\n",
    "Note that an empty string is also considered valid. <br>"
   ]
  },
  {
   "cell_type": "code",
   "execution_count": 63,
   "metadata": {},
   "outputs": [
    {
     "name": "stdout",
     "output_type": "stream",
     "text": [
      "True\n",
      "False\n",
      "True\n"
     ]
    }
   ],
   "source": [
    "#Method1\n",
    "arentheses_map = {\"[\": \"]\", \"{\": \"}\", \"(\": \")\"}\n",
    "\n",
    "def isValid(s):\n",
    "    stack = []\n",
    "    for bracket in s:\n",
    "        if bracket in parentheses_map:\n",
    "            stack.append(parentheses_map[bracket])\n",
    "        elif not stack or bracket != stack.pop():\n",
    "            return False\n",
    "    return not stack\n",
    "\n",
    "print(isValid(\"(){}[]\"))\n",
    "print(isValid(\"()[{)}\"))\n",
    "print(isValid(\"()\"))"
   ]
  },
  {
   "cell_type": "code",
   "execution_count": 67,
   "metadata": {},
   "outputs": [
    {
     "name": "stdout",
     "output_type": "stream",
     "text": [
      "True\n",
      "False\n",
      "True\n"
     ]
    }
   ],
   "source": [
    "#method2\n",
    "def is_valid_parenthese(str1):\n",
    "    stack, pchar = [], {\"(\": \")\", \"{\": \"}\", \"[\": \"]\"}\n",
    "    for parenthese in str1:\n",
    "        if parenthese in pchar:\n",
    "            stack.append(parenthese)\n",
    "#             print(parenthese)\n",
    "#             print(stack)\n",
    "        elif len(stack) == 0 or pchar[stack.pop()] != parenthese:\n",
    "            return False\n",
    "    return len(stack) == 0\n",
    "\n",
    "print(is_valid_parenthese(\"(){}[]\"))\n",
    "print(is_valid_parenthese(\"()[{)}\"))\n",
    "print(is_valid_parenthese(\"()\"))"
   ]
  },
  {
   "cell_type": "code",
   "execution_count": null,
   "metadata": {},
   "outputs": [],
   "source": []
  },
  {
   "cell_type": "code",
   "execution_count": null,
   "metadata": {},
   "outputs": [],
   "source": []
  },
  {
   "cell_type": "code",
   "execution_count": null,
   "metadata": {},
   "outputs": [],
   "source": []
  }
 ],
 "metadata": {
  "kernelspec": {
   "display_name": "Python 3",
   "language": "python",
   "name": "python3"
  },
  "language_info": {
   "codemirror_mode": {
    "name": "ipython",
    "version": 3
   },
   "file_extension": ".py",
   "mimetype": "text/x-python",
   "name": "python",
   "nbconvert_exporter": "python",
   "pygments_lexer": "ipython3",
   "version": "3.7.2"
  }
 },
 "nbformat": 4,
 "nbformat_minor": 2
}
